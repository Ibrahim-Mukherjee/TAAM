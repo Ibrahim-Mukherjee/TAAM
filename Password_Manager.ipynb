{
 "cells": [
  {
   "cell_type": "markdown",
   "id": "a8b8a7fd",
   "metadata": {},
   "source": [
    "RNN based Password Manager :- \n",
    "1. Recurrent Neural Networks (RNNs)\n",
    "RNNs, particularly Long Short-Term Memory (LSTM) networks, are effective for sequence prediction tasks, including password generation. They can learn the statistical properties of strong passwords from a large corpus of existing passwords and generate new ones that adhere to those properties."
   ]
  },
  {
   "cell_type": "code",
   "execution_count": 2,
   "id": "d3d830ae",
   "metadata": {},
   "outputs": [
    {
     "ename": "FileNotFoundError",
     "evalue": "[Errno 2] No such file or directory: 'passwords.txt'",
     "output_type": "error",
     "traceback": [
      "\u001b[1;31m---------------------------------------------------------------------------\u001b[0m",
      "\u001b[1;31mFileNotFoundError\u001b[0m                         Traceback (most recent call last)",
      "Cell \u001b[1;32mIn[2], line 59\u001b[0m\n\u001b[0;32m     57\u001b[0m \u001b[38;5;66;03m# Example usage\u001b[39;00m\n\u001b[0;32m     58\u001b[0m file_path \u001b[38;5;241m=\u001b[39m \u001b[38;5;124m'\u001b[39m\u001b[38;5;124mpasswords.txt\u001b[39m\u001b[38;5;124m'\u001b[39m  \u001b[38;5;66;03m# Path to your dataset\u001b[39;00m\n\u001b[1;32m---> 59\u001b[0m text \u001b[38;5;241m=\u001b[39m load_data(file_path)\n\u001b[0;32m     60\u001b[0m chars, char_to_index, index_to_char \u001b[38;5;241m=\u001b[39m preprocess_data(text)\n\u001b[0;32m     61\u001b[0m X, y \u001b[38;5;241m=\u001b[39m create_sequences(text, char_to_index)\n",
      "Cell \u001b[1;32mIn[2], line 8\u001b[0m, in \u001b[0;36mload_data\u001b[1;34m(file_path)\u001b[0m\n\u001b[0;32m      7\u001b[0m \u001b[38;5;28;01mdef\u001b[39;00m \u001b[38;5;21mload_data\u001b[39m(file_path):\n\u001b[1;32m----> 8\u001b[0m     \u001b[38;5;28;01mwith\u001b[39;00m \u001b[38;5;28mopen\u001b[39m(file_path, \u001b[38;5;124m'\u001b[39m\u001b[38;5;124mr\u001b[39m\u001b[38;5;124m'\u001b[39m) \u001b[38;5;28;01mas\u001b[39;00m file:\n\u001b[0;32m      9\u001b[0m         text \u001b[38;5;241m=\u001b[39m file\u001b[38;5;241m.\u001b[39mread()\n\u001b[0;32m     10\u001b[0m     \u001b[38;5;28;01mreturn\u001b[39;00m text\n",
      "File \u001b[1;32m~\\anaconda3\\Lib\\site-packages\\IPython\\core\\interactiveshell.py:286\u001b[0m, in \u001b[0;36m_modified_open\u001b[1;34m(file, *args, **kwargs)\u001b[0m\n\u001b[0;32m    279\u001b[0m \u001b[38;5;28;01mif\u001b[39;00m file \u001b[38;5;129;01min\u001b[39;00m {\u001b[38;5;241m0\u001b[39m, \u001b[38;5;241m1\u001b[39m, \u001b[38;5;241m2\u001b[39m}:\n\u001b[0;32m    280\u001b[0m     \u001b[38;5;28;01mraise\u001b[39;00m \u001b[38;5;167;01mValueError\u001b[39;00m(\n\u001b[0;32m    281\u001b[0m         \u001b[38;5;124mf\u001b[39m\u001b[38;5;124m\"\u001b[39m\u001b[38;5;124mIPython won\u001b[39m\u001b[38;5;124m'\u001b[39m\u001b[38;5;124mt let you open fd=\u001b[39m\u001b[38;5;132;01m{\u001b[39;00mfile\u001b[38;5;132;01m}\u001b[39;00m\u001b[38;5;124m by default \u001b[39m\u001b[38;5;124m\"\u001b[39m\n\u001b[0;32m    282\u001b[0m         \u001b[38;5;124m\"\u001b[39m\u001b[38;5;124mas it is likely to crash IPython. If you know what you are doing, \u001b[39m\u001b[38;5;124m\"\u001b[39m\n\u001b[0;32m    283\u001b[0m         \u001b[38;5;124m\"\u001b[39m\u001b[38;5;124myou can use builtins\u001b[39m\u001b[38;5;124m'\u001b[39m\u001b[38;5;124m open.\u001b[39m\u001b[38;5;124m\"\u001b[39m\n\u001b[0;32m    284\u001b[0m     )\n\u001b[1;32m--> 286\u001b[0m \u001b[38;5;28;01mreturn\u001b[39;00m io_open(file, \u001b[38;5;241m*\u001b[39margs, \u001b[38;5;241m*\u001b[39m\u001b[38;5;241m*\u001b[39mkwargs)\n",
      "\u001b[1;31mFileNotFoundError\u001b[0m: [Errno 2] No such file or directory: 'passwords.txt'"
     ]
    }
   ],
   "source": [
    "import numpy as np\n",
    "import tensorflow as tf\n",
    "from tensorflow.keras.models import Sequential\n",
    "from tensorflow.keras.layers import LSTM, Dense, Embedding\n",
    "\n",
    "# Load and preprocess the dataset\n",
    "def load_data(file_path):\n",
    "    with open(file_path, 'r') as file:\n",
    "        text = file.read()\n",
    "    return text\n",
    "\n",
    "def preprocess_data(text):\n",
    "    chars = sorted(list(set(text)))\n",
    "    char_to_index = {c: i for i, c in enumerate(chars)}\n",
    "    index_to_char = {i: c for i, c in enumerate(chars)}\n",
    "    return chars, char_to_index, index_to_char\n",
    "\n",
    "def create_sequences(text, char_to_index, seq_length=40):\n",
    "    sequences = []\n",
    "    next_chars = []\n",
    "    for i in range(0, len(text) - seq_length):\n",
    "        sequences.append(text[i: i + seq_length])\n",
    "        next_chars.append(text[i + seq_length])\n",
    "    X = np.zeros((len(sequences), seq_length, len(char_to_index)), dtype=np.bool)\n",
    "    y = np.zeros((len(sequences), len(char_to_index)), dtype=np.bool)\n",
    "    for i, sequence in enumerate(sequences):\n",
    "        for t, char in enumerate(sequence):\n",
    "            X[i, t, char_to_index[char]] = 1\n",
    "        y[i, char_to_index[next_chars[i]]] = 1\n",
    "    return X, y\n",
    "\n",
    "# Build the model\n",
    "def build_model(seq_length, num_chars):\n",
    "    model = Sequential([\n",
    "        LSTM(128, input_shape=(seq_length, num_chars)),\n",
    "        Dense(num_chars, activation='softmax')\n",
    "    ])\n",
    "    model.compile(loss='categorical_crossentropy', optimizer='adam')\n",
    "    return model\n",
    "\n",
    "# Generate passwords\n",
    "def generate_password(model, char_to_index, index_to_char, seq_length=40, num_chars=12):\n",
    "    start_index = np.random.randint(0, len(text) - seq_length - 1)\n",
    "    generated = ''\n",
    "    sentence = text[start_index: start_index + seq_length]\n",
    "    for i in range(num_chars):\n",
    "        x_pred = np.zeros((1, seq_length, len(char_to_index)))\n",
    "        for t, char in enumerate(sentence):\n",
    "            x_pred[0, t, char_to_index[char]] = 1\n",
    "        preds = model.predict(x_pred, verbose=0)[0]\n",
    "        next_index = np.argmax(preds)\n",
    "        next_char = index_to_char[next_index]\n",
    "        generated += next_char\n",
    "        sentence = sentence[1:] + next_char\n",
    "    return generated\n",
    "\n",
    "# Example usage\n",
    "file_path = 'passwords.txt'  # Path to your dataset\n",
    "text = load_data(file_path)\n",
    "chars, char_to_index, index_to_char = preprocess_data(text)\n",
    "X, y = create_sequences(text, char_to_index)\n",
    "model = build_model(X.shape[1], len(char_to_index))\n",
    "model.fit(X, y, batch_size=128, epochs=20)\n",
    "print(generate_password(model, char_to_index, index_to_char))"
   ]
  }
 ],
 "metadata": {
  "kernelspec": {
   "display_name": "Python 3 (ipykernel)",
   "language": "python",
   "name": "python3"
  },
  "language_info": {
   "codemirror_mode": {
    "name": "ipython",
    "version": 3
   },
   "file_extension": ".py",
   "mimetype": "text/x-python",
   "name": "python",
   "nbconvert_exporter": "python",
   "pygments_lexer": "ipython3",
   "version": "3.11.5"
  }
 },
 "nbformat": 4,
 "nbformat_minor": 5
}

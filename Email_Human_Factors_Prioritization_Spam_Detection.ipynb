{
 "cells": [
  {
   "cell_type": "markdown",
   "id": "260104d9",
   "metadata": {},
   "source": [
    "we can create a machine learning model that listens to a person's behavior inside an inbox, prioritizes emails, and classifies them as junk or important based on various factors. Here is a step-by-step approach and a sample Python code to achieve this:\n",
    "Step-by-Step Approach\n",
    "Data Collection:\n",
    "Collect email data, including sender, subject, content, and metadata (e.g., timestamps).\n",
    "Collect user behavior data, such as which emails are marked as junk, which are replied to, and which are prioritized.\n",
    "Feature Engineering:\n",
    "Extract features from emails, such as sender reputation, keywords in the subject, and content analysis.\n",
    "Extract user behavior features, such as the frequency of interaction with certain senders and the time taken to respond to emails.\n",
    "Model Training:\n",
    "Use supervised learning algorithms to train a model on labeled data (important vs. junk emails).\n",
    "Use semi-supervised learning to leverage both labeled and unlabeled data.\n",
    "Model Evaluation:\n",
    "Evaluate the model using metrics such as accuracy, precision, recall, and F1-score.\n",
    "Use cross-validation to ensure the model's robustness.\n",
    "Deployment:\n",
    "Integrate the model into an email client or server-side application.\n",
    "Continuously update the model based on new user behavior data."
   ]
  },
  {
   "cell_type": "markdown",
   "id": "fc96d00b",
   "metadata": {},
   "source": [
    "Explanation\n",
    "Data Collection:\n",
    "The sample data includes emails with their sender, subject, content, and label (important or junk).\n",
    "Feature Engineering:\n",
    "The TfidfVectorizer is used to convert the email subject and content into numerical features.\n",
    "Model Training:\n",
    "A Naive Bayes classifier is trained on the labeled data.\n",
    "Model Evaluation:\n",
    "The model is evaluated using accuracy, precision, recall, and F1-score.\n",
    "Deployment:\n",
    "A function classify_email is provided to classify new emails based on the trained model."
   ]
  },
  {
   "cell_type": "code",
   "execution_count": 1,
   "id": "29894b7f",
   "metadata": {},
   "outputs": [
    {
     "name": "stdout",
     "output_type": "stream",
     "text": [
      "Accuracy: 0.0\n",
      "Precision: 0.0\n",
      "Recall: 0.0\n",
      "F1 Score: 0.0\n",
      "The new email is classified as: important\n"
     ]
    },
    {
     "name": "stderr",
     "output_type": "stream",
     "text": [
      "C:\\Users\\ibrah\\anaconda3\\Lib\\site-packages\\sklearn\\metrics\\_classification.py:1469: UndefinedMetricWarning: Recall is ill-defined and being set to 0.0 due to no true samples. Use `zero_division` parameter to control this behavior.\n",
      "  _warn_prf(average, modifier, msg_start, len(result))\n"
     ]
    }
   ],
   "source": [
    "import pandas as pd\n",
    "from sklearn.feature_extraction.text import TfidfVectorizer\n",
    "from sklearn.model_selection import train_test_split\n",
    "from sklearn.naive_bayes import MultinomialNB\n",
    "from sklearn.metrics import accuracy_score, precision_score, recall_score, f1_score\n",
    "\n",
    "# Sample data\n",
    "data = {\n",
    "    'sender': ['trusted@domain.com', 'spam@domain.com', 'friend@domain.com', 'newsletter@domain.com'],\n",
    "    'subject': ['Meeting tomorrow', 'Win a prize', 'Catch up soon', 'Weekly newsletter'],\n",
    "    'content': ['Let\\'s meet tomorrow at 10 AM.', 'You have won a prize! Click here to claim.', 'Long time no see! Let\\'s catch up.', 'Here is your weekly newsletter.'],\n",
    "    'label': ['important', 'junk', 'important', 'junk']\n",
    "}\n",
    "\n",
    "# Create a DataFrame\n",
    "df = pd.DataFrame(data)\n",
    "\n",
    "# Feature extraction\n",
    "vectorizer = TfidfVectorizer()\n",
    "X = vectorizer.fit_transform(df['subject'] + ' ' + df['content'])\n",
    "y = df['label']\n",
    "\n",
    "# Split the data into training and testing sets\n",
    "X_train, X_test, y_train, y_test = train_test_split(X, y, test_size=0.2, random_state=42)\n",
    "\n",
    "# Train a Naive Bayes classifier\n",
    "model = MultinomialNB()\n",
    "model.fit(X_train, y_train)\n",
    "\n",
    "# Predict on the test set\n",
    "y_pred = model.predict(X_test)\n",
    "\n",
    "# Evaluate the model\n",
    "accuracy = accuracy_score(y_test, y_pred)\n",
    "precision = precision_score(y_test, y_pred, pos_label='important')\n",
    "recall = recall_score(y_test, y_pred, pos_label='important')\n",
    "f1 = f1_score(y_test, y_pred, pos_label='important')\n",
    "\n",
    "print(f'Accuracy: {accuracy}')\n",
    "print(f'Precision: {precision}')\n",
    "print(f'Recall: {recall}')\n",
    "print(f'F1 Score: {f1}')\n",
    "\n",
    "# Function to classify new emails\n",
    "def classify_email(sender, subject, content):\n",
    "    email = f'{subject} {content}'\n",
    "    email_vector = vectorizer.transform([email])\n",
    "    prediction = model.predict(email_vector)\n",
    "    return prediction[0]\n",
    "\n",
    "# Classify a new email\n",
    "new_email = {\n",
    "    'sender': 'unknown@domain.com',\n",
    "    'subject': 'Important update',\n",
    "    'content': 'Please read this important update.'\n",
    "}\n",
    "\n",
    "classification = classify_email(new_email['sender'], new_email['subject'], new_email['content'])\n",
    "print(f'The new email is classified as: {classification}')"
   ]
  },
  {
   "cell_type": "code",
   "execution_count": null,
   "id": "d10037cd",
   "metadata": {},
   "outputs": [],
   "source": []
  }
 ],
 "metadata": {
  "kernelspec": {
   "display_name": "Python 3 (ipykernel)",
   "language": "python",
   "name": "python3"
  },
  "language_info": {
   "codemirror_mode": {
    "name": "ipython",
    "version": 3
   },
   "file_extension": ".py",
   "mimetype": "text/x-python",
   "name": "python",
   "nbconvert_exporter": "python",
   "pygments_lexer": "ipython3",
   "version": "3.11.5"
  }
 },
 "nbformat": 4,
 "nbformat_minor": 5
}

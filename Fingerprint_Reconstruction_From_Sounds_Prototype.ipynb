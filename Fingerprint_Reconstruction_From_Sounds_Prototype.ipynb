{
 "cells": [
  {
   "cell_type": "markdown",
   "id": "c553d75f",
   "metadata": {},
   "source": [
    "The concept of recreating fingerprints from typing sounds is based on a side-channel attack named \"PrintListener,\" which uses finger-swiping friction sounds captured by attackers online with a high possibility through popular apps like Discord, Skype, WeChat, FaceTime, etc. This attack leverages the sound characteristics of a user's finger swiping on a touchscreen to extract fingerprint pattern features[1][7][10][16]. The researchers have developed a series of algorithms for pre-processing the raw audio signals, which are then used to generate targeted synthetics for PatternMasterPrint[1]. \n",
    "\n",
    "Citations:\n",
    "[1] https://slashdot.org/story/24/02/20/2127259/fingerprints-can-be-recreated-from-the-sounds-made-when-swiping-on-a-touchscreen\n",
    "[2] https://willdrevo.com/fingerprinting-and-audio-recognition-with-python/\n",
    "[3] https://www.tomshardware.com/tech-industry/qualcomm-reveals-the-sound-of-snapdragon-audio-logo-similar-to-branding-efforts-like-intels-jingle-netflixs-ta-dum\n",
    "[4] https://fortune.com/2023/08/08/artificial-intelligence-listen-keyboard-typing-steal-sensitive-information-cybersecurity-research/\n",
    "[5] https://github.com/worldveil/dejavu\n",
    "[6] https://www.tomshardware.com/tech-industry/artificial-intelligence/google-announces-gemini-ai-and-a-new-mobile-app-subscription-options-will-offer-more-powerful-models\n",
    "[7] https://www.cultofmac.com/847074/printlistener-fingerprint-security-risk/\n",
    "[8] https://yohanes.gultom.id/2018/03/24/simple-music-fingerprinting-using-chromaprint-in-python/\n",
    "[9] https://www.tomshardware.com/networking/three-million-malware-infected-smart-toothbrushes-used-in-swiss-ddos-attacks-botnet-causes-millions-of-euros-in-damages\n",
    "[10] https://gigazine.net/gsc_news/en/20240221-swipe-fingerprint/\n",
    "[11] https://youtube.com/watch?v=IIvfqfKkiio\n",
    "[12] https://www.tomshardware.com/software/security-software/the-canadian-government-wants-to-ban-flipper-zero-type-hacker-tools-to-combat-car-theft\n",
    "[13] https://www.kaspersky.com/blog/fingerprint-brute-force-android/48303/\n",
    "[14] https://stackoverflow.com/questions/66667495/audio-recognition-using-python\n",
    "[15] https://www.tomshardware.com/uk/archive\n",
    "[16] https://securityboulevard.com/2024/02/printlistener-fingerprint-richixbw/\n",
    "[17] https://learn.adafruit.com/adafruit-optical-fingerprint-sensor/circuitpython\n",
    "[18] https://www.tomshardware.com/news/usb-4-faq,38766.html\n",
    "[19] https://www.reddit.com/r/technology/comments/1av10x2/your_fingerprints_can_be_recreated_from_the/\n",
    "[20] https://www.rdkit.org/docs/GettingStartedInPython.html\n",
    "[21] https://www.tomshardware.com/features/toms-hardware-25-years-1996-vs-2021\n",
    "[22] https://www.tomshardware.com/news/can-you-get-coronavirus-from-a-package"
   ]
  },
  {
   "cell_type": "code",
   "execution_count": 2,
   "id": "763fb1be",
   "metadata": {},
   "outputs": [],
   "source": [
    "import numpy as np\n",
    "import scipy.signal as signal"
   ]
  },
  {
   "cell_type": "code",
   "execution_count": 5,
   "id": "2ab8402b",
   "metadata": {},
   "outputs": [],
   "source": [
    "# Pseudo-code for creating pseudo-data\n",
    "def create_pseudo_data(num_samples, signal_length):\n",
    "    pseudo_data = []\n",
    "    for _ in range(num_samples):\n",
    "        # Generate a synthetic signal (e.g., a sine wave with noise)\n",
    "        t = np.linspace(0, 1, signal_length, endpoint=False)\n",
    "        signal = np.sin(2 * np.pi * 5 * t) + np.random.randn(len(t)) * 0.1\n",
    "        pseudo_data.append(signal)\n",
    "    return np.array(pseudo_data)\n",
    "\n",
    "# Example usage\n",
    "num_samples = 100\n",
    "signal_length = 1000\n",
    "pseudo_data = create_pseudo_data(num_samples, signal_length)"
   ]
  },
  {
   "cell_type": "code",
   "execution_count": 7,
   "id": "0ef7c6fc",
   "metadata": {},
   "outputs": [],
   "source": [
    "import numpy as np\n",
    "import scipy.signal as signal\n",
    "\n",
    "# Generate a noisy signal for demonstration\n",
    "fs = 1000  # Sampling frequency\n",
    "t = np.linspace(0, 1, fs, endpoint=False)\n",
    "x = np.sin(2 * np.pi * 5 * t) + np.random.randn(len(t)) * 0.5\n",
    "\n",
    "# Apply a high-pass filter\n",
    "fc = 10  # Cut-off frequency of the filter\n",
    "w = fc / (fs / 2)  # Normalize the frequency\n",
    "b, a = signal.butter(5, w, 'high')\n",
    "output_signal = signal.filtfilt(b, a, x)"
   ]
  },
  {
   "cell_type": "code",
   "execution_count": 8,
   "id": "8bdfd429",
   "metadata": {},
   "outputs": [],
   "source": [
    "# Pseudo-code for event segmentation\n",
    "def segment_events(signal, threshold):\n",
    "    events = []\n",
    "    start = None\n",
    "    for i, value in enumerate(signal):\n",
    "        if value > threshold and start is None:\n",
    "            start = i  # Start of an event\n",
    "        elif value < threshold and start is not None:\n",
    "            end = i  # End of an event\n",
    "            events.append((start, end))\n",
    "            start = None\n",
    "    return events\n",
    "\n",
    "# Example usage\n",
    "threshold = 0.5\n",
    "events = segment_events(output_signal, threshold)"
   ]
  },
  {
   "cell_type": "code",
   "execution_count": 9,
   "id": "e5e8083f",
   "metadata": {},
   "outputs": [],
   "source": [
    "# Pseudo-code for feature extraction\n",
    "def extract_features(signal):\n",
    "    features = {\n",
    "        'mean': np.mean(signal),\n",
    "        'variance': np.var(signal),\n",
    "        'energy': np.sum(signal**2)\n",
    "    }\n",
    "    # Add more feature calculations as needed\n",
    "    return features\n",
    "\n",
    "# Example usage\n",
    "features = extract_features(output_signal)"
   ]
  }
 ],
 "metadata": {
  "kernelspec": {
   "display_name": "Python 3 (ipykernel)",
   "language": "python",
   "name": "python3"
  },
  "language_info": {
   "codemirror_mode": {
    "name": "ipython",
    "version": 3
   },
   "file_extension": ".py",
   "mimetype": "text/x-python",
   "name": "python",
   "nbconvert_exporter": "python",
   "pygments_lexer": "ipython3",
   "version": "3.11.5"
  }
 },
 "nbformat": 4,
 "nbformat_minor": 5
}

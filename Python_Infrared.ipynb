{
 "cells": [
  {
   "cell_type": "code",
   "execution_count": 1,
   "id": "e2a8145e",
   "metadata": {},
   "outputs": [],
   "source": [
    "import numpy as np\n",
    "from sklearn.cluster import DBSCAN\n",
    "\n",
    "class IRObjectDetector:\n",
    "    def __init__(self, num_sensors, max_distance, eps=0.5, min_samples=3):\n",
    "        self.num_sensors = num_sensors\n",
    "        self.max_distance = max_distance\n",
    "        self.eps = eps\n",
    "        self.min_samples = min_samples\n",
    "        self.dbscan = DBSCAN(eps=eps, min_samples=min_samples)\n",
    "\n",
    "    def detect_objects(self, ir_data):\n",
    "        # Preprocess IR data\n",
    "        ir_data = np.array(ir_data) / self.max_distance  # Normalize distances\n",
    "        ir_data = np.clip(ir_data, 0, 1)  # Clip values between 0 and 1\n",
    "\n",
    "        # Create feature vectors\n",
    "        angles = np.linspace(0, 2 * np.pi, self.num_sensors, endpoint=False)\n",
    "        features = np.column_stack((ir_data * np.cos(angles), ir_data * np.sin(angles)))\n",
    "\n",
    "        # Cluster points using DBSCAN\n",
    "        clusters = self.dbscan.fit_predict(features)\n",
    "\n",
    "        # Extract objects from clusters\n",
    "        objects = []\n",
    "        for cluster_id in np.unique(clusters):\n",
    "            if cluster_id != -1:\n",
    "                cluster_points = features[clusters == cluster_id]\n",
    "                center = np.mean(cluster_points, axis=0)\n",
    "                radius = np.max(np.linalg.norm(cluster_points - center, axis=1))\n",
    "                objects.append({'center': center, 'radius': radius})\n",
    "\n",
    "        return objects"
   ]
  },
  {
   "cell_type": "code",
   "execution_count": 2,
   "id": "7492fe75",
   "metadata": {},
   "outputs": [
    {
     "name": "stdout",
     "output_type": "stream",
     "text": [
      "Object center: [ 0.07742641 -0.05431981], radius: 0.5071046458188039\n"
     ]
    }
   ],
   "source": [
    "# Create an instance of the IRObjectDetector\n",
    "detector = IRObjectDetector(num_sensors=8, max_distance=5.0)\n",
    "\n",
    "# Sample IR sensor data\n",
    "ir_data = [2.5, 1.8, 1.2, 0.9, 1.1, 1.5, 2.1, 3.0]\n",
    "\n",
    "# Detect objects\n",
    "objects = detector.detect_objects(ir_data)\n",
    "\n",
    "# Print detected objects\n",
    "for obj in objects:\n",
    "    print(f\"Object center: {obj['center']}, radius: {obj['radius']}\")"
   ]
  },
  {
   "cell_type": "code",
   "execution_count": null,
   "id": "f72d4dec",
   "metadata": {},
   "outputs": [],
   "source": []
  }
 ],
 "metadata": {
  "kernelspec": {
   "display_name": "Python 3 (ipykernel)",
   "language": "python",
   "name": "python3"
  },
  "language_info": {
   "codemirror_mode": {
    "name": "ipython",
    "version": 3
   },
   "file_extension": ".py",
   "mimetype": "text/x-python",
   "name": "python",
   "nbconvert_exporter": "python",
   "pygments_lexer": "ipython3",
   "version": "3.11.5"
  }
 },
 "nbformat": 4,
 "nbformat_minor": 5
}

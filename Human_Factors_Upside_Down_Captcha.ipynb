{
 "cells": [
  {
   "cell_type": "markdown",
   "id": "91472421",
   "metadata": {},
   "source": [
    "Human Factors Captchas are those which are extremely easy for a Human to pick up and extremely difficult for AI to solve.\n",
    "The problem space is defined as follows :-\n",
    "1. Pick things which are extremely easy for the human mind to comprehend.\n",
    "2. Pick things which are difficult or near impossible for AI to solve based on the current state of the art.\n",
    "\n",
    "Write code with applications in cybersecurity which allows for low cognitive load for humans, but is extremely difficult for AI to solve. \n",
    "\n",
    "A lot of the ideas from Neuroscience for this project is picked up from the Gatsby Neuroscience Unit at UCL, London, UK.\n",
    "Link below :-\n",
    "\n",
    "https://www.ucl.ac.uk/gatsby/gatsby-computational-neuroscience-unit"
   ]
  },
  {
   "cell_type": "markdown",
   "id": "27420c52",
   "metadata": {},
   "source": [
    "###Upside Down Captcha\n",
    "\n",
    "Upside down Captcha is written on the basis that humans can easily and consistently solve slight variances in words however, computers would find it difficult to resolve with any accuracy. \n",
    "\n",
    "While vision detection and OCR can resolve words, if the words are turned upside down, AI would find it difficult to solve these. "
   ]
  },
  {
   "cell_type": "code",
   "execution_count": 2,
   "id": "09c26dc6",
   "metadata": {},
   "outputs": [
    {
     "name": "stdout",
     "output_type": "stream",
     "text": [
      "Collecting upsidedown\n",
      "  Downloading upsidedown-0.4-py2.py3-none-any.whl (5.5 kB)\n",
      "Installing collected packages: upsidedown\n",
      "Successfully installed upsidedown-0.4\n"
     ]
    }
   ],
   "source": [
    "!pip install upsidedown"
   ]
  },
  {
   "cell_type": "code",
   "execution_count": 6,
   "id": "53d00936",
   "metadata": {},
   "outputs": [
    {
     "name": "stderr",
     "output_type": "stream",
     "text": [
      "C:\\Users\\ibrah\\AppData\\Local\\Temp\\ipykernel_21896\\623509348.py:8: DeprecationWarning: getsize is deprecated and will be removed in Pillow 10 (2023-07-01). Use getbbox or getlength instead.\n",
      "  size = font.getsize(text)\n"
     ]
    }
   ],
   "source": [
    "import random\n",
    "from PIL import Image, ImageDraw, ImageFont\n",
    "from upsidedown import transform\n",
    "\n",
    "# Function to generate an image from text\n",
    "def text_to_image(text, font_path='arial.ttf', font_size=24, color=(0, 0, 0)):\n",
    "    font = ImageFont.truetype(font_path, size=font_size)\n",
    "    size = font.getsize(text)\n",
    "    img = Image.new(\"RGBA\", (size[0]+20, size[1]+20), (255, 255, 255, 0))\n",
    "    draw = ImageDraw.Draw(img)\n",
    "    draw.text((10, 10), text, font=font, fill=color)\n",
    "    return img\n",
    "\n",
    "# Function to generate a word with a maximum of two letters turned upside down\n",
    "def generate_upside_down_word(word):\n",
    "    upside_down_word = \"\"\n",
    "    flipped_count = 0\n",
    "    for c in word:\n",
    "        if random.choice([True, False]) and flipped_count < 2:\n",
    "            upside_down_word += transform(c)\n",
    "            flipped_count += 1\n",
    "        else:\n",
    "            upside_down_word += c\n",
    "    return upside_down_word\n",
    "\n",
    "# Main function to create captcha with images\n",
    "def create_captcha_image():\n",
    "    words = [\"apple\", \"banana\", \"cherry\", \"orange\", \"pear\"]\n",
    "    correct_word = random.choice(words)\n",
    "    upside_down_word = generate_upside_down_word(correct_word)\n",
    "\n",
    "    # Generate options\n",
    "    options = [correct_word]\n",
    "    while len(options) < 3:\n",
    "        option = random.choice(words)\n",
    "        if option not in options:\n",
    "            options.append(option)\n",
    "    random.shuffle(options)\n",
    "\n",
    "    # Generate images for the correct word and options\n",
    "    correct_word_img = text_to_image(upside_down_word)\n",
    "    option_imgs = [text_to_image(generate_upside_down_word(option)) for option in options]\n",
    "\n",
    "    # Display the images\n",
    "    correct_word_img.show()\n",
    "    for img in option_imgs:\n",
    "        img.show()\n",
    "\n",
    "create_captcha_image()"
   ]
  },
  {
   "cell_type": "code",
   "execution_count": 7,
   "id": "c0de47eb",
   "metadata": {},
   "outputs": [
    {
     "name": "stdout",
     "output_type": "stream",
     "text": [
      "Original word: cherry\n",
      "Upside-down word: ɔɥerry\n"
     ]
    }
   ],
   "source": [
    "import random\n",
    "from upsidedown import transform\n",
    "\n",
    "# Function to generate a word with a maximum of two letters turned upside down\n",
    "def generate_upside_down_word(word):\n",
    "    upside_down_word = \"\"\n",
    "    flipped_count = 0\n",
    "    for c in word:\n",
    "        if random.choice([True, False]) and flipped_count < 2:\n",
    "            upside_down_word += transform(c)\n",
    "            flipped_count += 1\n",
    "        else:\n",
    "            upside_down_word += c\n",
    "    return upside_down_word\n",
    "\n",
    "# Example usage of the function\n",
    "if __name__ == \"__main__\":\n",
    "    # List of words to choose from\n",
    "    words = [\"apple\", \"banana\", \"cherry\", \"orange\", \"pear\"]\n",
    "    \n",
    "    # Choose a random word from the list\n",
    "    chosen_word = random.choice(words)\n",
    "    \n",
    "    # Generate a word with some of its letters turned upside down\n",
    "    upside_down_word = generate_upside_down_word(chosen_word)\n",
    "    \n",
    "    # Print the original and the transformed word\n",
    "    print(f\"Original word: {chosen_word}\")\n",
    "    print(f\"Upside-down word: {upside_down_word}\")"
   ]
  },
  {
   "cell_type": "code",
   "execution_count": 10,
   "id": "fd99e7e0",
   "metadata": {},
   "outputs": [
    {
     "name": "stderr",
     "output_type": "stream",
     "text": [
      "C:\\Users\\ibrah\\AppData\\Local\\Temp\\ipykernel_21896\\3749582539.py:8: DeprecationWarning: getsize is deprecated and will be removed in Pillow 10 (2023-07-01). Use getbbox or getlength instead.\n",
      "  size = font.getsize(text)\n"
     ]
    },
    {
     "data": {
      "image/png": "[encoded data removed]",
      "text/plain": [
       "<PIL.Image.Image image mode=RGBA size=98x42>"
      ]
     },
     "metadata": {},
     "output_type": "display_data"
    },
    {
     "data": {
      "image/png": "[encoded data removed]",
      "text/plain": [
       "<PIL.Image.Image image mode=RGBA size=77x47>"
      ]
     },
     "metadata": {},
     "output_type": "display_data"
    },
    {
     "data": {
      "image/png": "[encoded data removed]",
      "text/plain": [
       "<PIL.Image.Image image mode=RGBA size=98x42>"
      ]
     },
     "metadata": {},
     "output_type": "display_data"
    },
    {
     "data": {
      "image/png": "[encoded data removed]",
      "text/plain": [
       "<PIL.Image.Image image mode=RGBA size=93x47>"
      ]
     },
     "metadata": {},
     "output_type": "display_data"
    }
   ],
   "source": [
    "from IPython.display import display\n",
    "\n",
    "# Modify the existing function or create a new one\n",
    "def create_captcha_image_jupyter():\n",
    "    words = [\"apple\", \"banana\", \"cherry\", \"orange\", \"pear\"]\n",
    "    correct_word = random.choice(words)\n",
    "    upside_down_word = generate_upside_down_word(correct_word)\n",
    "\n",
    "    # Generate options\n",
    "    options = [correct_word]\n",
    "    while len(options) < 3:\n",
    "        option = random.choice(words)\n",
    "        if option not in options:\n",
    "            options.append(option)\n",
    "    random.shuffle(options)\n",
    "\n",
    "    # Generate images for the correct word and options\n",
    "    correct_word_img = text_to_image(upside_down_word)\n",
    "    option_imgs = [text_to_image(generate_upside_down_word(option)) for option in options]\n",
    "\n",
    "    # Display the images using IPython's display function\n",
    "    display(correct_word_img)\n",
    "    for img in option_imgs:\n",
    "        display(img)\n",
    "\n",
    "# Call the modified function for Jupyter Notebook\n",
    "create_captcha_image_jupyter()"
   ]
  }
 ],
 "metadata": {
  "kernelspec": {
   "display_name": "Python 3 (ipykernel)",
   "language": "python",
   "name": "python3"
  },
  "language_info": {
   "codemirror_mode": {
    "name": "ipython",
    "version": 3
   },
   "file_extension": ".py",
   "mimetype": "text/x-python",
   "name": "python",
   "nbconvert_exporter": "python",
   "pygments_lexer": "ipython3",
   "version": "3.11.5"
  }
 },
 "nbformat": 4,
 "nbformat_minor": 5
}

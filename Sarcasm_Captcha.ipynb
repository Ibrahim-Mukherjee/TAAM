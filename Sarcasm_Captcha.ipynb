{
 "cells": [
  {
   "cell_type": "markdown",
   "id": "16a5d91a",
   "metadata": {},
   "source": [
    "Human Factors Captchas are those which are extremely easy for a Human to pick up and extremely difficult for AI to solve.\n",
    "The problem space is defined as follows :-\n",
    "1. Pick things which are extremely easy for the human mind to comprehend.\n",
    "2. Pick things which are difficult or near impossible for AI to solve based on the current state of the art.\n",
    "\n",
    "Write code with applications in cybersecurity which allows for low cognitive load for humans, but is extremely difficult for AI to solve. \n",
    "\n",
    "A lot of the ideas from Neuroscience for this project is picked up from the Gatsby Neuroscience Unit at UCL, London, UK.\n",
    "Link below :-\n",
    "\n",
    "https://www.ucl.ac.uk/gatsby/gatsby-computational-neuroscience-unit"
   ]
  },
  {
   "cell_type": "markdown",
   "id": "14490832",
   "metadata": {},
   "source": [
    "###Flipped words + Sarcasm\n",
    "\n",
    "Flipped words + Sarcasm - takes the best of British Humour plus flipped words to create a Captcha. The code can be used along with the upside down captcha for additional security.\n",
    "\n",
    "A common play on sarcastic language is used along with the words in the answers flipped to make it a little more difficult for basic AI tools like GPT-2 to solve.\n",
    "\n",
    "Tools like GPT-4 should still be able to solve this easily, however turning them into images may make it a bit more difficult for OCR to resolve, along with turning words upside down. \n",
    "\n",
    "A basic version, and a more advanced version is shown here.\n",
    "\n",
    "Upside down Captcha is written on the basis that humans can easily and consistently solve slight variances in words however, computers would find it difficult to resolve with any accuracy.\n",
    "\n",
    "While vision detection and OCR can resolve words, if the words are turned upside down, AI would find it difficult to solve these."
   ]
  },
  {
   "cell_type": "code",
   "execution_count": 1,
   "id": "a756eb89",
   "metadata": {},
   "outputs": [
    {
     "name": "stdout",
     "output_type": "stream",
     "text": [
      "Warning: This CAPTCHA can only be solved by a human, not AI.\n",
      "CAPTCHA: I really enjoy when my favorite show gets cancelled\n",
      "Are you happy or sad? (Enter 'yppah' for happy, 'dah' for sad)\n",
      "Your answer: dah\n",
      "CAPTCHA passed, you are human!\n"
     ]
    }
   ],
   "source": [
    "import random\n",
    "\n",
    "# A list of sarcastic sentences and their sentiments\n",
    "sentences = [\n",
    "    (\"I had so much fun at the dentist\", \"dah\"),\n",
    "    (\"I can't wait to do my taxes\", \"dah\"),\n",
    "    (\"I love getting stuck in traffic\", \"dah\"),\n",
    "    (\"There's nothing I enjoy more than a cold shower\", \"dah\"),\n",
    "    (\"I always look forward to a trip to the DMV\", \"dah\"),\n",
    "    (\"Nothing beats the thrill of a long PowerPoint presentation\", \"dah\"),\n",
    "    (\"I just love when my phone battery dies\", \"dah\"),\n",
    "    (\"I really enjoy when my favorite show gets cancelled\", \"dah\"),\n",
    "    (\"I can't get enough of this cold weather\", \"dah\"),\n",
    "    (\"I always wanted to have a flat tire on my way to work\", \"dah\")\n",
    "]\n",
    "\n",
    "# Function to display a random sentence and check the user's answer\n",
    "def display_captcha():\n",
    "    sentence, sentiment = random.choice(sentences)\n",
    "    print(f\"CAPTCHA: {sentence}\")\n",
    "    print(\"Are you happy or sad? (Enter 'yppah' for happy, 'dah' for sad)\")\n",
    "    user_answer = input(\"Your answer: \")\n",
    "    return user_answer.strip().lower() == sentiment.lower()\n",
    "\n",
    "# Display the warning\n",
    "print(\"Warning: This CAPTCHA can only be solved by a human, not AI.\")\n",
    "\n",
    "# Example usage\n",
    "if display_captcha():\n",
    "    print(\"CAPTCHA passed, you are human!\")\n",
    "else:\n",
    "    print(\"CAPTCHA failed, please try again.\")"
   ]
  },
  {
   "cell_type": "code",
   "execution_count": 4,
   "id": "8b917d51",
   "metadata": {},
   "outputs": [
    {
     "name": "stdout",
     "output_type": "stream",
     "text": [
      "Warning: This CAPTCHA can only be solved by a human, not AI, the sentences have words jumbled up, plus the meaning of the sentences are supposed to be sarcastic\n",
      "CAPTCHA: cancelled gets show favorite my when enjoy really I\n",
      "Are you happy or sad? (Enter 'yppah' for happy, 'dah' for sad)\n",
      "Your answer: dah\n",
      "CAPTCHA passed, you are human!\n"
     ]
    }
   ],
   "source": [
    "import random\n",
    "\n",
    "# A list of sarcastic sentences and their sentiments\n",
    "sentences = [\n",
    "    (\"I had so much fun at the dentist\", \"dah\"),\n",
    "    (\"I can't wait to do my taxes\", \"dah\"),\n",
    "    (\"I love getting stuck in traffic\", \"dah\"),\n",
    "    (\"There's nothing I enjoy more than a cold shower\", \"dah\"),\n",
    "    (\"I always look forward to a trip to the DMV\", \"dah\"),\n",
    "    (\"Nothing beats the thrill of a long PowerPoint presentation\", \"dah\"),\n",
    "    (\"I just love when my phone battery dies\", \"dah\"),\n",
    "    (\"I really enjoy when my favorite show gets cancelled\", \"dah\"),\n",
    "    (\"I can't get enough of this cold weather\", \"dah\"),\n",
    "    (\"I always wanted to have a flat tire on my way to work\", \"dah\")\n",
    "]\n",
    "\n",
    "# Function to flip the words in a sentence\n",
    "def flip_words(sentence):\n",
    "    words = sentence.split()  # Split the sentence into words\n",
    "    words.reverse()           # Reverse the list of words\n",
    "    return ' '.join(words)    # Reassemble the sentence\n",
    "\n",
    "# Function to display a random sentence and check the user's answer\n",
    "def display_captcha():\n",
    "    sentence, sentiment = random.choice(sentences)\n",
    "    flipped_sentence = flip_words(sentence)  # Flip the words in the sentence\n",
    "    print(f\"CAPTCHA: {flipped_sentence}\")\n",
    "    print(\"Are you happy or sad? (Enter 'yppah' for happy, 'dah' for sad)\")\n",
    "    user_answer = input(\"Your answer: \")\n",
    "    return user_answer.strip().lower() == sentiment.lower()\n",
    "\n",
    "# Display the warning\n",
    "print(\"Warning: This CAPTCHA can only be solved by a human, not AI, the sentences have words jumbled up, plus the meaning of the sentences are supposed to be sarcastic\")\n",
    "\n",
    "# Example usage\n",
    "if display_captcha():\n",
    "    print(\"CAPTCHA passed, you are human!\")\n",
    "else:\n",
    "    print(\"CAPTCHA failed, please try again.\")"
   ]
  },
  {
   "cell_type": "code",
   "execution_count": null,
   "id": "8902ae47",
   "metadata": {},
   "outputs": [],
   "source": []
  }
 ],
 "metadata": {
  "kernelspec": {
   "display_name": "Python 3 (ipykernel)",
   "language": "python",
   "name": "python3"
  },
  "language_info": {
   "codemirror_mode": {
    "name": "ipython",
    "version": 3
   },
   "file_extension": ".py",
   "mimetype": "text/x-python",
   "name": "python",
   "nbconvert_exporter": "python",
   "pygments_lexer": "ipython3",
   "version": "3.11.5"
  }
 },
 "nbformat": 4,
 "nbformat_minor": 5
}
